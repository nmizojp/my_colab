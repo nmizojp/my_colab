{
  "nbformat": 4,
  "nbformat_minor": 0,
  "metadata": {
    "colab": {
      "name": "L001_MyDrive_read_prosess01.ipynb",
      "provenance": [],
      "authorship_tag": "ABX9TyO4v4/L8iFGaRsPViS0/ZtD",
      "include_colab_link": true
    },
    "kernelspec": {
      "name": "python3",
      "display_name": "Python 3"
    }
  },
  "cells": [
    {
      "cell_type": "markdown",
      "metadata": {
        "id": "view-in-github",
        "colab_type": "text"
      },
      "source": [
        "<a href=\"https://colab.research.google.com/github/nmizojp/my_colab/blob/master/L001_MyDrive_read_prosess01.ipynb\" target=\"_parent\"><img src=\"https://colab.research.google.com/assets/colab-badge.svg\" alt=\"Open In Colab\"/></a>"
      ]
    },
    {
      "cell_type": "code",
      "metadata": {
        "id": "UUwLoRjK2-fa",
        "colab_type": "code",
        "colab": {}
      },
      "source": [
        ""
      ],
      "execution_count": 0,
      "outputs": []
    },
    {
      "cell_type": "markdown",
      "metadata": {
        "id": "jAzeXeAE81dl",
        "colab_type": "text"
      },
      "source": [
        "My Driveに、mydataホルダを作りその中のファイルを読み込んで処理をする例です。"
      ]
    },
    {
      "cell_type": "markdown",
      "metadata": {
        "id": "rhVV2s8c5WwP",
        "colab_type": "text"
      },
      "source": [
        "## My Driveをマウントする\n"
      ]
    },
    {
      "cell_type": "code",
      "metadata": {
        "id": "-zYnXeSC5lNH",
        "colab_type": "code",
        "outputId": "188581e6-ca9b-4ef6-f84c-3a42c62afbbd",
        "colab": {
          "base_uri": "https://localhost:8080/",
          "height": 122
        }
      },
      "source": [
        "from google.colab import drive\n",
        "drive.mount('/content/drive/')"
      ],
      "execution_count": 0,
      "outputs": [
        {
          "output_type": "stream",
          "text": [
            "Go to this URL in a browser: https://accounts.google.com/o/oauth2/auth?client_id=947318989803-6bn6qk8qdgf4n4g3pfee6491hc0brc4i.apps.googleusercontent.com&redirect_uri=urn%3aietf%3awg%3aoauth%3a2.0%3aoob&response_type=code&scope=email%20https%3a%2f%2fwww.googleapis.com%2fauth%2fdocs.test%20https%3a%2f%2fwww.googleapis.com%2fauth%2fdrive%20https%3a%2f%2fwww.googleapis.com%2fauth%2fdrive.photos.readonly%20https%3a%2f%2fwww.googleapis.com%2fauth%2fpeopleapi.readonly\n",
            "\n",
            "Enter your authorization code:\n",
            "··········\n",
            "Mounted at /content/drive/\n"
          ],
          "name": "stdout"
        }
      ]
    },
    {
      "cell_type": "code",
      "metadata": {
        "id": "lPKraEQ25m6d",
        "colab_type": "code",
        "colab": {}
      },
      "source": [
        "# ファイルパスを指定\n",
        "filepath = '/content/drive/My Drive/mydata/mov/fire.m4v'\n"
      ],
      "execution_count": 0,
      "outputs": []
    },
    {
      "cell_type": "code",
      "metadata": {
        "id": "APcb-err6l4M",
        "colab_type": "code",
        "colab": {}
      },
      "source": [
        "import numpy as np\n",
        "import scipy as sp\n",
        "import matplotlib.pyplot as plt\n",
        "import librosa as lr\n",
        "import librosa.display"
      ],
      "execution_count": 0,
      "outputs": []
    },
    {
      "cell_type": "code",
      "metadata": {
        "id": "yKGFFpOx6zTj",
        "colab_type": "code",
        "outputId": "d629ea95-cc8c-4657-f1df-1b40a4bee3f1",
        "colab": {
          "base_uri": "https://localhost:8080/",
          "height": 265
        }
      },
      "source": [
        "y, sr = lr.load(filepath)\n",
        "totaltime = len(y) / sr\n",
        "time = np.arange(0, totaltime, 1/sr)\n",
        "# 描画\n",
        "plt.figure(figsize=(12,4))\n",
        "plt.plot(time, y)\n",
        "plt.grid()"
      ],
      "execution_count": 0,
      "outputs": [
        {
          "output_type": "display_data",
          "data": {
            "image/png": "[encoded data removed]",
            "text/plain": [
              "<Figure size 864x288 with 1 Axes>"
            ]
          },
          "metadata": {
            "tags": []
          }
        }
      ]
    },
    {
      "cell_type": "code",
      "metadata": {
        "id": "r5ouvwgQ7mk3",
        "colab_type": "code",
        "colab": {
          "base_uri": "https://localhost:8080/",
          "height": 34
        },
        "outputId": "5348858c-0651-45b8-e8de-5b72fa454e37"
      },
      "source": [
        "print(y.shape) # 配列の型"
      ],
      "execution_count": 16,
      "outputs": [
        {
          "output_type": "stream",
          "text": [
            "(416775,)\n"
          ],
          "name": "stdout"
        }
      ]
    },
    {
      "cell_type": "code",
      "metadata": {
        "id": "QBvla6cM_ffW",
        "colab_type": "code",
        "colab": {
          "base_uri": "https://localhost:8080/",
          "height": 34
        },
        "outputId": "b20f4978-fabc-41cd-dcb2-f41bfb21c17a"
      },
      "source": [
        "print(type(y))  # yの型を調べる"
      ],
      "execution_count": 17,
      "outputs": [
        {
          "output_type": "stream",
          "text": [
            "<class 'numpy.ndarray'>\n"
          ],
          "name": "stdout"
        }
      ]
    },
    {
      "cell_type": "code",
      "metadata": {
        "id": "yRvVAqVM_28r",
        "colab_type": "code",
        "colab": {}
      },
      "source": [
        ""
      ],
      "execution_count": 0,
      "outputs": []
    }
  ]
}